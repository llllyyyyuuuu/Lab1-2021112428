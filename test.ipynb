{
 "cells": [
  {
   "cell_type": "code",
   "execution_count": 8,
   "metadata": {},
   "outputs": [
    {
     "ename": "NetworkXNoPath",
     "evalue": "No path between 3 and 0.",
     "output_type": "error",
     "traceback": [
      "\u001b[1;31m---------------------------------------------------------------------------\u001b[0m",
      "\u001b[1;31mNetworkXNoPath\u001b[0m                            Traceback (most recent call last)",
      "Cell \u001b[1;32mIn[8], line 34\u001b[0m\n\u001b[0;32m     15\u001b[0m G\u001b[38;5;241m.\u001b[39madd_weighted_edges_from([(\u001b[38;5;241m0\u001b[39m,\u001b[38;5;241m1\u001b[39m,\u001b[38;5;241m3\u001b[39m),(\u001b[38;5;241m0\u001b[39m,\u001b[38;5;241m2\u001b[39m,\u001b[38;5;241m1\u001b[39m),(\u001b[38;5;241m0\u001b[39m,\u001b[38;5;241m3\u001b[39m,\u001b[38;5;241m1\u001b[39m),\n\u001b[0;32m     16\u001b[0m                             (\u001b[38;5;241m1\u001b[39m,\u001b[38;5;241m2\u001b[39m,\u001b[38;5;241m1\u001b[39m),(\u001b[38;5;241m1\u001b[39m,\u001b[38;5;241m4\u001b[39m,\u001b[38;5;241m1\u001b[39m),(\u001b[38;5;241m1\u001b[39m,\u001b[38;5;241m9\u001b[39m,\u001b[38;5;241m4\u001b[39m),\n\u001b[0;32m     17\u001b[0m                             (\u001b[38;5;241m2\u001b[39m,\u001b[38;5;241m3\u001b[39m,\u001b[38;5;241m1\u001b[39m),(\u001b[38;5;241m2\u001b[39m,\u001b[38;5;241m4\u001b[39m,\u001b[38;5;241m2\u001b[39m),(\u001b[38;5;241m2\u001b[39m,\u001b[38;5;241m5\u001b[39m,\u001b[38;5;241m1\u001b[39m),\n\u001b[1;32m   (...)\u001b[0m\n\u001b[0;32m     30\u001b[0m                             (\u001b[38;5;241m15\u001b[39m,\u001b[38;5;241m17\u001b[39m,\u001b[38;5;241m4\u001b[39m),\n\u001b[0;32m     31\u001b[0m                             (\u001b[38;5;241m16\u001b[39m,\u001b[38;5;241m17\u001b[39m,\u001b[38;5;241m1\u001b[39m)])  \u001b[38;5;66;03m# 向图中添加多条赋权边: (node1,node2,weight)\u001b[39;00m\n\u001b[0;32m     32\u001b[0m \u001b[38;5;66;03m# G.add_edge(\"1\",\"2\", weight = 1)\u001b[39;00m\n\u001b[0;32m     33\u001b[0m \u001b[38;5;66;03m# G.add_edge(\"1\",\"2\", weight = 2)\u001b[39;00m\n\u001b[1;32m---> 34\u001b[0m paths \u001b[38;5;241m=\u001b[39m \u001b[38;5;28;43mlist\u001b[39;49m\u001b[43m(\u001b[49m\u001b[43mnx\u001b[49m\u001b[38;5;241;43m.\u001b[39;49m\u001b[43mshortest_simple_paths\u001b[49m\u001b[43m(\u001b[49m\u001b[43mG\u001b[49m\u001b[43m,\u001b[49m\u001b[43m \u001b[49m\u001b[38;5;241;43m3\u001b[39;49m\u001b[43m,\u001b[49m\u001b[43m \u001b[49m\u001b[38;5;241;43m0\u001b[39;49m\u001b[43m,\u001b[49m\u001b[43m \u001b[49m\u001b[43mweight\u001b[49m\u001b[38;5;241;43m=\u001b[39;49m\u001b[38;5;124;43m\"\u001b[39;49m\u001b[38;5;124;43mweight\u001b[39;49m\u001b[38;5;124;43m\"\u001b[39;49m\u001b[43m)\u001b[49m\u001b[43m)\u001b[49m\n\u001b[0;32m     35\u001b[0m draw_graph(G)\n",
      "File \u001b[1;32md:\\Anaconda\\lib\\site-packages\\networkx\\algorithms\\simple_paths.py:555\u001b[0m, in \u001b[0;36mshortest_simple_paths\u001b[1;34m(G, source, target, weight)\u001b[0m\n\u001b[0;32m    553\u001b[0m \u001b[38;5;28;01mwhile\u001b[39;00m \u001b[38;5;28;01mTrue\u001b[39;00m:\n\u001b[0;32m    554\u001b[0m     \u001b[38;5;28;01mif\u001b[39;00m \u001b[38;5;129;01mnot\u001b[39;00m prev_path:\n\u001b[1;32m--> 555\u001b[0m         length, path \u001b[38;5;241m=\u001b[39m \u001b[43mshortest_path_func\u001b[49m\u001b[43m(\u001b[49m\u001b[43mG\u001b[49m\u001b[43m,\u001b[49m\u001b[43m \u001b[49m\u001b[43msource\u001b[49m\u001b[43m,\u001b[49m\u001b[43m \u001b[49m\u001b[43mtarget\u001b[49m\u001b[43m,\u001b[49m\u001b[43m \u001b[49m\u001b[43mweight\u001b[49m\u001b[38;5;241;43m=\u001b[39;49m\u001b[43mweight\u001b[49m\u001b[43m)\u001b[49m\n\u001b[0;32m    556\u001b[0m         listB\u001b[38;5;241m.\u001b[39mpush(length, path)\n\u001b[0;32m    557\u001b[0m     \u001b[38;5;28;01melse\u001b[39;00m:\n",
      "File \u001b[1;32md:\\Anaconda\\lib\\site-packages\\networkx\\algorithms\\simple_paths.py:975\u001b[0m, in \u001b[0;36m_bidirectional_dijkstra\u001b[1;34m(G, source, target, weight, ignore_nodes, ignore_edges)\u001b[0m\n\u001b[0;32m    973\u001b[0m                     revpath\u001b[38;5;241m.\u001b[39mreverse()\n\u001b[0;32m    974\u001b[0m                     finalpath \u001b[38;5;241m=\u001b[39m paths[\u001b[38;5;241m0\u001b[39m][w] \u001b[38;5;241m+\u001b[39m revpath[\u001b[38;5;241m1\u001b[39m:]\n\u001b[1;32m--> 975\u001b[0m \u001b[38;5;28;01mraise\u001b[39;00m nx\u001b[38;5;241m.\u001b[39mNetworkXNoPath(\u001b[38;5;124mf\u001b[39m\u001b[38;5;124m\"\u001b[39m\u001b[38;5;124mNo path between \u001b[39m\u001b[38;5;132;01m{\u001b[39;00msource\u001b[38;5;132;01m}\u001b[39;00m\u001b[38;5;124m and \u001b[39m\u001b[38;5;132;01m{\u001b[39;00mtarget\u001b[38;5;132;01m}\u001b[39;00m\u001b[38;5;124m.\u001b[39m\u001b[38;5;124m\"\u001b[39m)\n",
      "\u001b[1;31mNetworkXNoPath\u001b[0m: No path between 3 and 0."
     ]
    }
   ],
   "source": [
    "import networkx as nx\n",
    "import matplotlib.pyplot as plt\n",
    "import re\n",
    "import random\n",
    "\n",
    "def draw_graph(G:nx.DiGraph):\n",
    "    fig,ax = plt.subplots()\n",
    "    pos = nx.spring_layout(G, iterations=1000)\n",
    "    nx.draw(G, pos, with_labels = True,ax = ax)\n",
    "    labels = nx.get_edge_attributes(G,'weight')\n",
    "    # nx.draw_networkx_edge_labels(G, pos=pos, edge_labels=labels, font_color='c')\n",
    "    plt.show()\n",
    "\n",
    "G = nx.DiGraph()  # 创建：空的 无向图\n",
    "G.add_weighted_edges_from([(0,1,3),(0,2,1),(0,3,1),\n",
    "                            (1,2,1),(1,4,1),(1,9,4),\n",
    "                            (2,3,1),(2,4,2),(2,5,1),\n",
    "                            (3,5,2),(3,6,2),(3,7,1),\n",
    "                            (4,5,1),(4,9,1),\n",
    "                            (5,6,1),(5,9,3),(5,10,1),(5,12,3),\n",
    "                            (6,7,1),(6,8,2),(6,12,2),(6,13,4),(6,14,3),\n",
    "                            (7,8,1),\n",
    "                            (8,14,1),(8,15,3),\n",
    "                            (9,10,1),(9,11,1),\n",
    "                            (10,11,1),(10,12,2),\n",
    "                            (11,12,1),(11,16,1),\n",
    "                            (12,13,2),(12,16,1),\n",
    "                            (13,14,1),(13,15,2),(13,16,2),(13,17,1),\n",
    "                            (14,15,1),\n",
    "                            (15,17,4),\n",
    "                            (16,17,1)])  # 向图中添加多条赋权边: (node1,node2,weight)\n",
    "# G.add_edge(\"1\",\"2\", weight = 1)\n",
    "# G.add_edge(\"1\",\"2\", weight = 2)\n",
    "paths = list(nx.shortest_simple_paths(G, 3, 0, weight=\"weight\"))\n",
    "draw_graph(G)\n"
   ]
  },
  {
   "cell_type": "code",
   "execution_count": 18,
   "metadata": {},
   "outputs": [
    {
     "data": {
      "text/plain": [
       "{'weight': 1}"
      ]
     },
     "execution_count": 18,
     "metadata": {},
     "output_type": "execute_result"
    }
   ],
   "source": [
    "G.get_edge_data(\"1\", \"2\")\n",
    "# [\"weight\"]"
   ]
  }
 ],
 "metadata": {
  "kernelspec": {
   "display_name": "base",
   "language": "python",
   "name": "python3"
  },
  "language_info": {
   "codemirror_mode": {
    "name": "ipython",
    "version": 3
   },
   "file_extension": ".py",
   "mimetype": "text/x-python",
   "name": "python",
   "nbconvert_exporter": "python",
   "pygments_lexer": "ipython3",
   "version": "3.8.17"
  },
  "vscode": {
   "interpreter": {
    "hash": "5179d32cf6ec497baf3f8a3ef987cc77c5d2dc691fdde20a56316522f61a7323"
   }
  }
 },
 "nbformat": 4,
 "nbformat_minor": 2
}
